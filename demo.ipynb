{
 "cells": [
  {
   "cell_type": "code",
   "execution_count": 1,
   "id": "4720e424",
   "metadata": {},
   "outputs": [],
   "source": [
    "import clip\n",
    "import torch\n",
    "import requests\n",
    "\n",
    "from PIL import Image\n",
    "from ilikepaintings import load_predictor"
   ]
  },
  {
   "cell_type": "code",
   "execution_count": 2,
   "id": "08fb1cbb",
   "metadata": {},
   "outputs": [],
   "source": [
    "device = \"cuda\" if torch.cuda.is_available() else \"cpu\"\n",
    "model_name = \"RN50x64\"\n",
    "\n",
    "model, preprocess = clip.load(model_name, device=device)\n",
    "model = model.eval()\n",
    "predictor = load_predictor(model_name, \"VAPS999\").to(device).eval()"
   ]
  },
  {
   "cell_type": "code",
   "execution_count": 3,
   "id": "50771f01",
   "metadata": {
    "scrolled": true
   },
   "outputs": [],
   "source": [
    "url = \"https://www.museumtv.art/wp-content/uploads/2019/01/Jacques-Louis-Davis-Napoleon_Bonaparte.jpg\"\n",
    "image = Image.open(requests.get(url, stream=True).raw)\n",
    "image = preprocess(image).unsqueeze(0).to(device)"
   ]
  },
  {
   "cell_type": "code",
   "execution_count": 4,
   "id": "7d496020",
   "metadata": {},
   "outputs": [
    {
     "name": "stdout",
     "output_type": "stream",
     "text": [
      "Predicted Appreciation Score: 4.34039831161499\n"
     ]
    }
   ],
   "source": [
    "with torch.no_grad():\n",
    "    # Extract fearures\n",
    "    ebds = model.encode_image(image)\n",
    "    # DO NOT FORGET TO L2_NORMALIZE YOUR EMBEDDINGS BEFORE PASSING TO PREDICTOR !\n",
    "    ebds = ebds / (torch.linalg.norm(ebds, ord=2, dim=1) + 1e-8)\n",
    "    # Run some `ilikepaintings` predictor\n",
    "    print(\"Predicted Appreciation Score:\", predictor(ebds).item())"
   ]
  },
  {
   "cell_type": "code",
   "execution_count": null,
   "id": "9b953600",
   "metadata": {},
   "outputs": [],
   "source": []
  },
  {
   "cell_type": "code",
   "execution_count": null,
   "id": "cf1b41c0",
   "metadata": {},
   "outputs": [],
   "source": []
  },
  {
   "cell_type": "code",
   "execution_count": null,
   "id": "ca15e160",
   "metadata": {},
   "outputs": [],
   "source": []
  }
 ],
 "metadata": {
  "kernelspec": {
   "display_name": "Python 3 (ipykernel)",
   "language": "python",
   "name": "python3"
  },
  "language_info": {
   "codemirror_mode": {
    "name": "ipython",
    "version": 3
   },
   "file_extension": ".py",
   "mimetype": "text/x-python",
   "name": "python",
   "nbconvert_exporter": "python",
   "pygments_lexer": "ipython3",
   "version": "3.9.13"
  }
 },
 "nbformat": 4,
 "nbformat_minor": 5
}
